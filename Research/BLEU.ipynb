{
 "cells": [
  {
   "cell_type": "markdown",
   "metadata": {},
   "source": [
    "# Bilingual Evaluation Understudy (BLEU)\n",
    "= Anzahl der Wörter, die mit der Referenz übereinstimmen / die Gesamtzahl der Wörter in einem Kandidatensatz\n",
    "\n",
    "\n",
    "\n",
    "![Bleu](https://miro.medium.com/v2/resize:fit:828/format:webp/1*U8nNdl0WYoXK290ONwfr5g.png)\n",
    "\n",
    "\n",
    "Um es zu berechnen, nehmen wir die maximale Häufigkeit, mit der ein Wort in einer einzelnen Referenzübersetzung vorkommt. Abzüglich der Gesamtzahl jedes Kandidatenworts durch seine maximale Referenzanzahl, aufaddieren dieser beschnittenen Zahlen und dividiert durch die Gesamtzahl (nicht beschnittener) Kandidatenwörter.\n",
    "\n",
    "### Beschreibung:\n",
    "- Messung der Güte maschineller Übersetzung\n",
    "- Vergleich eines Satzes mit Referenzsätzen und gibt an, wie gut die Übereinstimmung ist\n",
    "- Ausgangspunkt:\n",
    "    - Es gibt nur EINE richtige Übersetzung\n",
    "    - Die als \"richtig\" vorgegebene Version = Referenztext => Hochwertige menschliche Übersetzung\n",
    "    - Text liegt in Ausgangs- und Zielsprache vor\n",
    "- Beurteilung erfolgt lediglich auf Basis des Referenztextes\n",
    "- Ausgabewert zwischen 0 und 1\n",
    "    - 1: Je näher an 1, desto mehr stimmt die Maschinenübersetzung mit der menschlichen Übersetzung überein\n",
    "    - 0: Keine Übereinstimmung\n",
    "\n",
    "### Nachteile:\n",
    "- Es wird nur eine Übereinstimmung geprüft, aber nicht was falsch ist\n",
    "- Fokus mehr auf Wörtern, als auf Grammatik\n",
    "- Es gibt nur EINE richtige Lösung\n",
    "\n",
    "<br/>\n",
    "\n",
    "> Es wird nicht wichtklich die Qualität gemessen, sondern lediglich, wie nahe eine maschinelle Übersetzung an einen vorgegebenen Referenztext herankommt\n",
    "\n",
    "<br/>\n",
    "\n",
    "Quellen: \n",
    "- https://www.digitalocean.com/community/tutorials/bleu-score-in-python\n",
    "- https://www.digitalocean.com/community/tutorials/bleu-score-in-python\n",
    "- https://www.nltk.org/api/nltk.translate.bleu_score.html"
   ]
  },
  {
   "cell_type": "code",
   "execution_count": 1,
   "metadata": {},
   "outputs": [],
   "source": [
    "# Imports\n",
    "import os\n",
    "import json\n",
    "from nltk.translate.bleu_score import sentence_bleu, corpus_bleu, modified_precision"
   ]
  },
  {
   "cell_type": "code",
   "execution_count": 3,
   "metadata": {},
   "outputs": [],
   "source": [
    "# Pfad der JSONS ermitteln\n",
    "folder = \"../Data/atticus\"\n",
    "list_files = os.listdir(folder)\n",
    "\n",
    "# Leere Liste für englische und deutsche Texte\n",
    "list_english_text = []\n",
    "list_german_text = []\n",
    "\n",
    "# Laden der Files und Extraktion der englischen Texte (Source Language = en-US)\n",
    "for path in list_files:\n",
    "    path_complete = folder + \"//\" + path\n",
    "    with open(path_complete,'r', encoding=\"utf-8-sig\") as file:\n",
    "        obj = json.load(file)\n",
    "\n",
    "    # Iterieren durch die Texte der JSON und Selection der englischen Texte\n",
    "    for text in obj:\n",
    "        # Selection der englischen Sätze\n",
    "        list_english_text.append(text['Text'])\n",
    "        # Überprüfen, ob die Sprache \"de-DE\" ist und Speichern in einer Liste\n",
    "        for translation in text['Translations']:\n",
    "            if translation['Language'] == 'de-DE':\n",
    "                list_german_text.append(translation['Text'])"
   ]
  },
  {
   "cell_type": "code",
   "execution_count": 4,
   "metadata": {},
   "outputs": [],
   "source": [
    "# Vorbereitung der Sätze\n",
    "# Splitten der zu prüfenden Sätze in einzelne Wörter und speichern in einer Liste (hypothesis)\n",
    "hypothesis = list_german_text[20].split()\n",
    "list_hypothesis = [satz.split() for satz in list_german_text][20:23]"
   ]
  },
  {
   "cell_type": "code",
   "execution_count": 6,
   "metadata": {},
   "outputs": [],
   "source": [
    "# Referenzsätze (vom Menschen übersetzt): \n",
    "# Die Referenz kann immer mehrere Sätze in unterschidelichen Formulierungen enthalten\n",
    "reference_bleu = [\n",
    "    \"WAS GIBT ES NEUES & STORYTELLINGAlle bestehenden Franchise werden eingestellt und ein vollständig neues Produktangebot wird eingeführtVerbrauchererkenntnissen basiert und auf Aktivitäten fokussiertFühlt sich besser an als keinen BH zu tragen, vom Entspannen bis zum Erledigen von BesorgungenGebaut für 24 Stunden KomfortNiemand möchte während der Pandemie BHs tragen, sie möchte reinen Komfort und dieses BH-lose GefühlDieses PRIMEGREEN-Produkt wird aus recyceltem Polyester hergestellt, um Umweltauswirkungen zu reduzieren NACHHALTIGKEITRECYCELTE MATERIALIEN PRIME – PRIMEGREEN. SPEZIFIKATIONENVerkaufsstartdatum: 01-01-2022Stoff: 81% REC.PA/19% ELArtikelnummer: HD0267, HD0269, HD0268, HC5584, HD0270TECHNOLOGIEN & EIGENSCHAFTENLEICHTE KOMPRESSION - Bietet leichte UnterstützungAEROREADY - Leitet Schweiß von Ihrer Haut ab und hält Sie trocken und komfortabelHERAUSNEHMBARE POLSTER - Für optionale AbdeckungKÖRPER UND FUTTER VERBUNDEN - Mit atmungsaktivem VerbindungsklebebandVERBUNDENE NÄHTE UND KANTEN - Für einen glättenden Effekt und ein angenehmes GefühlDEZENTE MARKIERUNG - Erhöhtes adidas Badge of Sport Logo mit Glanzfinish an der Seite\".split(),\n",
    "    \"Alle bestehenden Franchise werden aufgegeben, um ein vollständig neues Produktangebot einzuführen. Basierend auf Verbrauchererkenntnissen und mit Fokus auf Aktivitäten, bietet es ein angenehmeres Tragegefühl als das Nicht-Tragen eines BHs, egal ob beim Entspannen oder beim Erledigen von Besorgungen. Entwickelt für 24 Stunden Komfort. Während der Pandemie möchte niemand BHs tragen; sie sehnen sich nach reinem Komfort und dem Gefühl, keinen BH zu tragen. Dieses PRIMEGREEN-Produkt wird aus recyceltem Polyester hergestellt, um Umweltauswirkungen zu reduzieren.\".split(),\n",
    "    \"Alle bestehenden Franchise werden zurückgezogen und es wird ein komplett neues Produktangebot eingeführt. Basierend auf Verbrauchererkenntnissen und mit Fokus auf Aktivitäten, bietet es ein besseres Tragegefühl als das Nicht-Tragen eines BHs, sei es beim Entspannen oder beim Erledigen von Besorgungen. Entwickelt für 24 Stunden Komfort. Während der Pandemie möchte niemand BHs tragen; sie streben nach purem Komfort und dem Gefühl, keinen BH zu tragen. Dieses PRIMEGREEN-Produkt wird aus recyceltem Polyester hergestellt, um Umweltauswirkungen zu reduzieren.\".split()\n",
    "]\n",
    "\n",
    "# Liste von Refernezsätzen\n",
    "list_reference = [[\n",
    "    \"WAS GIBT ES NEUES & STORYTELLINGAlle bestehenden Franchise werden eingestellt und ein vollständig neues Produktangebot wird eingeführtVerbrauchererkenntnissen basiert und auf Aktivitäten fokussiertFühlt sich besser an als keinen BH zu tragen, vom Entspannen bis zum Erledigen von BesorgungenGebaut für 24 Stunden KomfortNiemand möchte während der Pandemie BHs tragen, sie möchte reinen Komfort und dieses BH-lose GefühlDieses PRIMEGREEN-Produkt wird aus recyceltem Polyester hergestellt, um Umweltauswirkungen zu reduzieren NACHHALTIGKEITRECYCELTE MATERIALIEN PRIME – PRIMEGREEN. SPEZIFIKATIONENVerkaufsstartdatum: 01-01-2022Stoff: 81% REC.PA/19% ELArtikelnummer: HD0267, HD0269, HD0268, HC5584, HD0270TECHNOLOGIEN & EIGENSCHAFTENLEICHTE KOMPRESSION - Bietet leichte UnterstützungAEROREADY - Leitet Schweiß von Ihrer Haut ab und hält Sie trocken und komfortabelHERAUSNEHMBARE POLSTER - Für optionale AbdeckungKÖRPER UND FUTTER VERBUNDEN - Mit atmungsaktivem VerbindungsklebebandVERBUNDENE NÄHTE UND KANTEN - Für einen glättenden Effekt und ein angenehmes GefühlDEZENTE MARKIERUNG - Erhöhtes adidas Badge of Sport Logo mit Glanzfinish an der Seite\".split(),\n",
    "    \"Alle bestehenden Franchise werden aufgegeben, um ein vollständig neues Produktangebot einzuführen. Basierend auf Verbrauchererkenntnissen und mit Fokus auf Aktivitäten, bietet es ein angenehmeres Tragegefühl als das Nicht-Tragen eines BHs, egal ob beim Entspannen oder beim Erledigen von Besorgungen. Entwickelt für 24 Stunden Komfort. Während der Pandemie möchte niemand BHs tragen; sie sehnen sich nach reinem Komfort und dem Gefühl, keinen BH zu tragen. Dieses PRIMEGREEN-Produkt wird aus recyceltem Polyester hergestellt, um Umweltauswirkungen zu reduzieren.\".split(),\n",
    "    \"Alle bestehenden Franchise werden zurückgezogen und es wird ein komplett neues Produktangebot eingeführt. Basierend auf Verbrauchererkenntnissen und mit Fokus auf Aktivitäten, bietet es ein besseres Tragegefühl als das Nicht-Tragen eines BHs, sei es beim Entspannen oder beim Erledigen von Besorgungen. Entwickelt für 24 Stunden Komfort. Während der Pandemie möchte niemand BHs tragen; sie streben nach purem Komfort und dem Gefühl, keinen BH zu tragen. Dieses PRIMEGREEN-Produkt wird aus recyceltem Polyester hergestellt, um Umweltauswirkungen zu reduzieren.\".split()\n",
    "    ],\n",
    "    [\"DOWNLOAD PRODUKTINFORMATIONEN\",\n",
    "     \"PRODUKTINFORMATIONEN HERUNTERLADEN\"],\n",
    "    [\"Haben Sie eine Frage oder einen Vorschlag? Fragen Sie unten!\",\n",
    "     \"Fragen oder Anregungen? Stellen Sie sie unten!\",\n",
    "     \"Haben Sie Fragen oder Anregungen? Teilen Sie sie uns mit unten!\"]\n",
    "]"
   ]
  },
  {
   "cell_type": "code",
   "execution_count": null,
   "metadata": {},
   "outputs": [],
   "source": [
    "# Bestimmung des BLEU Scores bezogen auf einen Satz\n",
    "print('BLEU score sentence -> {}'.format(sentence_bleu(reference_bleu, hypothesis)))     # Es könnte noch eine Gewichtung mithilfe der bestimmung der zu\n",
    "                                                                                         # betrachteten n-gramms herangezogen werden (weights=(1, 0, 0, 0))\n",
    "\n",
    "# Bestimmung des BLEU Scores bezogen auf einen Korpus\n",
    "print('BLEU score corpus -> {}'.format(corpus_bleu(list_reference, list_hypothesis)))"
   ]
  },
  {
   "cell_type": "markdown",
   "metadata": {},
   "source": [
    "BLEU score sentence -> 0.35360981220380344\n",
    "\n",
    "BLEU score corpus -> 0.20923325841009338"
   ]
  }
 ],
 "metadata": {
  "kernelspec": {
   "display_name": "venv",
   "language": "python",
   "name": "python3"
  },
  "language_info": {
   "codemirror_mode": {
    "name": "ipython",
    "version": 3
   },
   "file_extension": ".py",
   "mimetype": "text/x-python",
   "name": "python",
   "nbconvert_exporter": "python",
   "pygments_lexer": "ipython3",
   "version": "3.12.4"
  }
 },
 "nbformat": 4,
 "nbformat_minor": 2
}
