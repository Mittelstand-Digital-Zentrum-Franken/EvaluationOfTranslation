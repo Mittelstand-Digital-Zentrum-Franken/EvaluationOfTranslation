{
 "cells": [
  {
   "cell_type": "markdown",
   "metadata": {},
   "source": [
    "# chrF++\n",
    "= ist ein Zeichen-n-Gramm-F-Score (harmonisches Mittel aus Präzision und Erinnerung). Ähnlich wie die auf Zeichenfolgen basierenden Metriken misst es die Überlappung zwischen Übersetzung und Referenz, operiert jedoch im Gegensatz zu anderen Metriken mit kurzen Zeichenfolgen (n-Grammen) anstelle von Wörtern.\n",
    "\n",
    "### Vorteile:\n",
    "- Sie ist weniger empfindlich gegenüber der Tokenisierung von Sätzen\n",
    "- Es vergibt eine teilweise Belohnung für falsch geschriebene Wörter\n",
    "\n",
    "<br/>\n",
    "\n",
    "![chrF](https://miro.medium.com/v2/resize:fit:828/format:webp/1*Jq6kumiuvvpDyDocIdCYvQ.png)\n",
    "\n",
    "- Score (Wert): Der chrF-Score selbst ist eine Zahl, die die Qualität der Übersetzung angibt\n",
    "\n",
    "- char_order (Zeichenreihenfolge): Dieser Wert zeigt an, wie viel Gewicht auf die Reihenfolge der Zeichen gelegt wird. Je höher, desto mehr wert wird darauf gelegt\n",
    "\n",
    "- word_order (Wortreihenfolge): Dieser Wert gibt an, wie viel Gewicht auf die Reihenfolge der Wörter gelegt wird. Ein Wert von 0 bedeutet, dass die Wortreihenfolge nicht berücksichtigt wird.\n",
    "\n",
    "- beta: Beta ist ein Parameter, der die Wichtigkeit der Übereinstimmung von n-Grammen reguliert. Ein höherer Beta-Wert bedeutet, dass größere n-Gramme mehr Gewicht erhalten.\n",
    "\n",
    "### Schlussfolgerung:\n",
    "\n",
    "Der chrF-Score ist ein Prozentsatzwert, der die Ähnlichkeit zwischen dem erzeugten Text und dem Referenztext angibt. Bei einem Score von 90%, bedeutet dies, dass 90% der Zeichen im erzeugten Text auch im Referenztext vorhanden sind oder umgekehrt.\n",
    "\n",
    "Quellen:\n",
    "- https://huggingface.co/spaces/evaluate-metric/chrf\n",
    "- https://github.com/m-popovic/chrF/blob/master/chrF%2B%2B.py"
   ]
  },
  {
   "cell_type": "code",
   "execution_count": 4,
   "metadata": {},
   "outputs": [],
   "source": [
    "# Imports\n",
    "import os\n",
    "import json\n",
    "import evaluate"
   ]
  },
  {
   "cell_type": "code",
   "execution_count": 5,
   "metadata": {},
   "outputs": [],
   "source": [
    "# Pfad der JSONS ermitteln\n",
    "folder = \"../Data/atticus\"\n",
    "list_files = os.listdir(folder)\n",
    "\n",
    "# Leere Liste für englische und deutsche Texte\n",
    "list_english_text = []\n",
    "list_german_text = []\n",
    "\n",
    "# Laden der Files und Extraktion der englischen Texte (Source Language = en-US)\n",
    "for path in list_files:\n",
    "    path_complete = folder + \"//\" + path\n",
    "    with open(path_complete,'r', encoding=\"utf-8-sig\") as file:\n",
    "        obj = json.load(file)\n",
    "\n",
    "    # Iterieren durch die Texte der JSON und Selection der englischen Texte\n",
    "    for text in obj:\n",
    "        # Selection der englischen Sätze\n",
    "        list_english_text.append(text['Text'])\n",
    "        # Überprüfen, ob die Sprache \"de-DE\" ist und Speichern in einer Liste\n",
    "        for translation in text['Translations']:\n",
    "            if translation['Language'] == 'de-DE':\n",
    "                list_german_text.append(translation['Text'])"
   ]
  },
  {
   "cell_type": "code",
   "execution_count": 6,
   "metadata": {},
   "outputs": [],
   "source": [
    "# Vorbereitung der Daten\n",
    "vorhersage = list_german_text[20:23]\n",
    "referenz = [[\"WAS GIBT ES NEUES & STORYTELLINGAlle bestehenden Franchise werden eingestellt und ein vollständig neues Produktangebot wird eingeführtVerbrauchererkenntnissen basiert und auf Aktivitäten fokussiertFühlt sich besser an als keinen BH zu tragen, vom Entspannen bis zum Erledigen von BesorgungenGebaut für 24 Stunden KomfortNiemand möchte während der Pandemie BHs tragen, sie möchte reinen Komfort und dieses BH-lose GefühlDieses PRIMEGREEN-Produkt wird aus recyceltem Polyester hergestellt, um Umweltauswirkungen zu reduzieren NACHHALTIGKEITRECYCELTE MATERIALIEN PRIME – PRIMEGREEN. SPEZIFIKATIONENVerkaufsstartdatum: 01-01-2022Stoff: 81% REC.PA/19% ELArtikelnummer: HD0267, HD0269, HD0268, HC5584, HD0270TECHNOLOGIEN & EIGENSCHAFTENLEICHTE KOMPRESSION - Bietet leichte UnterstützungAEROREADY - Leitet Schweiß von Ihrer Haut ab und hält Sie trocken und komfortabelHERAUSNEHMBARE POLSTER - Für optionale AbdeckungKÖRPER UND FUTTER VERBUNDEN - Mit atmungsaktivem VerbindungsklebebandVERBUNDENE NÄHTE UND KANTEN - Für einen glättenden Effekt und ein angenehmes GefühlDEZENTE MARKIERUNG - Erhöhtes adidas Badge of Sport Logo mit Glanzfinish an der Seite\"],\n",
    "            [\"DOWNLOAD PRODUKTINFORMATIONEN\"],\n",
    "            [\"Haben Sie eine Frage oder einen Vorschlag? Fragen Sie unten!\"]]"
   ]
  },
  {
   "cell_type": "code",
   "execution_count": 8,
   "metadata": {},
   "outputs": [
    {
     "name": "stdout",
     "output_type": "stream",
     "text": [
      "chrF++ score -> {'score': 39.68738225039941, 'char_order': 6, 'word_order': 0, 'beta': 2}\n"
     ]
    }
   ],
   "source": [
    "# Laden des Modells\n",
    "chrf = evaluate.load(\"chrf\")\n",
    "\n",
    "# Anwenden des Modells auf die Daten\n",
    "results_chrf = chrf.compute(predictions=vorhersage, references=referenz)\n",
    "\n",
    "# Ausgabe (Wird in % Ausgegeben)\n",
    "print(f'chrF++ score -> {results_chrf}')"
   ]
  }
 ],
 "metadata": {
  "kernelspec": {
   "display_name": "venv",
   "language": "python",
   "name": "python3"
  },
  "language_info": {
   "codemirror_mode": {
    "name": "ipython",
    "version": 3
   },
   "file_extension": ".py",
   "mimetype": "text/x-python",
   "name": "python",
   "nbconvert_exporter": "python",
   "pygments_lexer": "ipython3",
   "version": "3.12.4"
  }
 },
 "nbformat": 4,
 "nbformat_minor": 2
}
