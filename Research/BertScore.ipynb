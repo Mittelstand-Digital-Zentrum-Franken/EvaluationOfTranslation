{
 "cells": [
  {
   "cell_type": "markdown",
   "metadata": {},
   "source": [
    "# Bert Score\n",
    "\n",
    "BertScore verwendet kontextbezogene Einbettungen, die durch ein vorab trainiertes Bert- Modell erstellt wurden, und berechnet den Matching mithilfe der Kosinusähnlichkeit, optional gewichtet mit inversen Dokumenthäufigkeitswerten. Er gibt die Ergebnisse der Übersetzungsqualität in 3 Metriken an:\n",
    "\n",
    "![Bert](https://miro.medium.com/v2/resize:fit:1100/format:webp/1*qIW4oGKgh_ZcYCRKoj5yPA.png)\n",
    "\n",
    "- Precision (Präzision): Dies ist das Verhältnis der korrekten Übersetzungen zu allen vorgenommenen Übersetzungen. Eine hohe Precision bedeutet, dass die meisten vorgenommenen Übersetzungen korrekt waren. Je höher, desto genauer ist die Übersetzung.\n",
    "\n",
    "- Recall (Erkennungsrate): Dies ist das Verhältnis der korrekten Übersetzungen zu allen möglichen korrekten Übersetzungen. Eine hohe Recall bedeutet, dass die meisten korrekten Übersetzungen auch tatsächlich erkannt wurden. Je höher, desto mehr wurde richtig übersetzt.\n",
    "\n",
    "- F1-Score: Dies ist das harmonische Mittel aus Precision und Recall und gibt eine kombinierte Bewertung der Übersetzungsqualität. Ein hoher F1-Score deutet darauf hin, dass sowohl Precision als auch Recall hoch sind.\n",
    "\n",
    "Quellen: \n",
    "- https://arxiv.org/pdf/2004.04696\n",
    "- https://huggingface.co/spaces/evaluate-metric/bleurt/blob/main/app.py\n",
    "- https://huggingface.co/spaces/evaluate-metric/bertscore\n",
    "- https://pytorch.org/get-started/locally/\n",
    "\n"
   ]
  },
  {
   "cell_type": "code",
   "execution_count": 6,
   "metadata": {},
   "outputs": [],
   "source": [
    "# Imports\n",
    "import os\n",
    "import json\n",
    "from evaluate import load"
   ]
  },
  {
   "cell_type": "code",
   "execution_count": 3,
   "metadata": {},
   "outputs": [],
   "source": [
    "# Pfad der JSONS ermitteln\n",
    "folder = \"../Data/atticus\"\n",
    "list_files = os.listdir(folder)\n",
    "\n",
    "# Leere Liste für englische und deutsche Texte\n",
    "list_english_text = []\n",
    "list_german_text = []\n",
    "\n",
    "# Laden der Files und Extraktion der englischen Texte (Source Language = en-US)\n",
    "for path in list_files:\n",
    "    path_complete = folder + \"//\" + path\n",
    "    with open(path_complete,'r', encoding=\"utf-8-sig\") as file:\n",
    "        obj = json.load(file)\n",
    "\n",
    "    # Iterieren durch die Texte der JSON und Selection der englischen Texte\n",
    "    for text in obj:\n",
    "        # Selection der englischen Sätze\n",
    "        list_english_text.append(text['Text'])\n",
    "        # Überprüfen, ob die Sprache \"de-DE\" ist und Speichern in einer Liste\n",
    "        for translation in text['Translations']:\n",
    "            if translation['Language'] == 'de-DE':\n",
    "                list_german_text.append(translation['Text'])"
   ]
  },
  {
   "cell_type": "code",
   "execution_count": 4,
   "metadata": {},
   "outputs": [],
   "source": [
    "# Erstellen der Datensätze\n",
    "predictions = list_german_text[20:23]\n",
    "references = [\"WAS GIBT ES NEUES & STORYTELLINGAlle bestehenden Franchise werden eingestellt und ein vollständig neues Produktangebot wird eingeführtVerbrauchererkenntnissen basiert und auf Aktivitäten fokussiertFühlt sich besser an als keinen BH zu tragen, vom Entspannen bis zum Erledigen von BesorgungenGebaut für 24 Stunden KomfortNiemand möchte während der Pandemie BHs tragen, sie möchte reinen Komfort und dieses BH-lose GefühlDieses PRIMEGREEN-Produkt wird aus recyceltem Polyester hergestellt, um Umweltauswirkungen zu reduzieren NACHHALTIGKEITRECYCELTE MATERIALIEN PRIME – PRIMEGREEN. SPEZIFIKATIONENVerkaufsstartdatum: 01-01-2022Stoff: 81% REC.PA/19% ELArtikelnummer: HD0267, HD0269, HD0268, HC5584, HD0270TECHNOLOGIEN & EIGENSCHAFTENLEICHTE KOMPRESSION - Bietet leichte UnterstützungAEROREADY - Leitet Schweiß von Ihrer Haut ab und hält Sie trocken und komfortabelHERAUSNEHMBARE POLSTER - Für optionale AbdeckungKÖRPER UND FUTTER VERBUNDEN - Mit atmungsaktivem VerbindungsklebebandVERBUNDENE NÄHTE UND KANTEN - Für einen glättenden Effekt und ein angenehmes GefühlDEZENTE MARKIERUNG - Erhöhtes adidas Badge of Sport Logo mit Glanzfinish an der Seite\",\n",
    "              \"DOWNLOAD PRODUKTINFORMATIONEN\",\n",
    "              \"Haben Sie eine Frage oder einen Vorschlag? Fragen Sie unten!\"]"
   ]
  },
  {
   "cell_type": "code",
   "execution_count": 7,
   "metadata": {},
   "outputs": [
    {
     "name": "stderr",
     "output_type": "stream",
     "text": [
      "c:\\Users\\sandra.nuissl\\Desktop\\EvaluationOfTranslation\\venv\\Lib\\site-packages\\huggingface_hub\\file_download.py:159: UserWarning: `huggingface_hub` cache-system uses symlinks by default to efficiently store duplicated files but your machine does not support them in C:\\Users\\sandra.nuissl\\.cache\\huggingface\\hub\\models--bert-base-multilingual-cased. Caching files will still work but in a degraded version that might require more space on your disk. This warning can be disabled by setting the `HF_HUB_DISABLE_SYMLINKS_WARNING` environment variable. For more details, see https://huggingface.co/docs/huggingface_hub/how-to-cache#limitations.\n",
      "To support symlinks on Windows, you either need to activate Developer Mode or to run Python as an administrator. In order to see activate developer mode, see this article: https://docs.microsoft.com/en-us/windows/apps/get-started/enable-your-device-for-development\n",
      "  warnings.warn(message)\n"
     ]
    },
    {
     "name": "stdout",
     "output_type": "stream",
     "text": [
      "Bert score -> {'precision': [0.7125904560089111, 0.8146710991859436, 0.9406546950340271], 'recall': [0.702753484249115, 0.8103688955307007, 0.9463291764259338], 'f1': [0.7076377272605896, 0.8125143051147461, 0.9434834122657776], 'hashcode': 'bert-base-multilingual-cased_L9_no-idf_version=0.3.12(hug_trans=4.42.4)'}\n"
     ]
    }
   ],
   "source": [
    "# Laden des Modells\n",
    "bertscore = load(\"bertscore\")\n",
    "\n",
    "# Anwenden des Modells auf den Datensatz\n",
    "results_bert = bertscore.compute(predictions=predictions, references=references, lang=\"de\")\n",
    "\n",
    "# Ausgabe (Wird in % Ausgegeben)\n",
    "print(f'Bert score -> {results_bert}')"
   ]
  }
 ],
 "metadata": {
  "kernelspec": {
   "display_name": "venv",
   "language": "python",
   "name": "python3"
  },
  "language_info": {
   "codemirror_mode": {
    "name": "ipython",
    "version": 3
   },
   "file_extension": ".py",
   "mimetype": "text/x-python",
   "name": "python",
   "nbconvert_exporter": "python",
   "pygments_lexer": "ipython3",
   "version": "3.12.4"
  }
 },
 "nbformat": 4,
 "nbformat_minor": 2
}
