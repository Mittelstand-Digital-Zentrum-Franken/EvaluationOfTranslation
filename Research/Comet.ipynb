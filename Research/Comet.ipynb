{
 "cells": [
  {
   "cell_type": "markdown",
   "metadata": {},
   "source": [
    "### 2.3. <u>COMET</u>\n",
    "\n",
    "Im Gegensatz zu BertScore bezieht COMET auch die Eingabe in der Quellsprache in den Schätzprozess ein. Das Modell ermöglicht eine Vorhersage ohne die Referenzübersetzung für die Modellausgabe (Hypothese). COMET prüft die semantische Ähnlichkeit, indem es vortrainierte Sprachmodelle wie BERT oder RoBERTa verwendet, die kontextuelle Repräsentationen von Wörtern und Sätzen erzeugen. Diese Modelle sind feinabgestimmt auf spezielle Bewertungsdaten, die aus Quelltexten, maschinellen Übersetzungen und Referenzübersetzungen bestehen. Das Modell extrahiert kontextuelle Merkmale aus diesen Texten und berechnet die Ähnlichkeit zwischen den Merkmalen der maschinellen Übersetzungen und den Referenzübersetzungen. Die semantische Ähnlichkeit wird durch Distanzmetriken wie die Kosinusähnlichkeit gemessen, um einen Score zu liefern, der die Übersetzungsqualität widerspiegelt.\n",
    "\n",
    "<img src=\"https://miro.medium.com/v2/resize:fit:1100/format:webp/1*omJhB5a4yEZ3IgWNxp31ig.png\" alt=\"Comet\" width=\"300\" height=\"300\">\n",
    "\n",
    "### Vorteile\n",
    "- Semantische Sensibilität: COMET ist in der Lage, die semantische Bedeutung von Texten genau zu erfassen, was es ihm ermöglicht, subtile Unterschiede und Nuancen in Übersetzungen zu erkennen, die traditionelle Metriken wie BLEU möglicherweise nicht erfassen.\n",
    "\n",
    "- Sprachübergreifende Fähigkeiten: Dank der Verwendung von mehrsprachigen Sprachmodellen kann COMET effektiv mit verschiedenen Sprachpaaren umgehen und die Qualität von Übersetzungen in vielen verschiedenen Sprachen bewerten.\n",
    "\n",
    "- Kontextuelle Bewertung: Durch die Berücksichtigung des Kontextes jedes Wortes in einem Satz kann COMET kontextuelle Fehler in Übersetzungen erkennen, die bei wortbasierten Metriken unentdeckt bleiben könnten.\n",
    "\n",
    "Quellen: \n",
    "- https://arxiv.org/pdf/2009.09025\n",
    "- https://github.com/Unbabel/COMET"
   ]
  },
  {
   "cell_type": "code",
   "execution_count": null,
   "metadata": {},
   "outputs": [],
   "source": [
    "# Imports\n",
    "from comet import download_model, load_from_checkpoint"
   ]
  },
  {
   "cell_type": "code",
   "execution_count": null,
   "metadata": {},
   "outputs": [],
   "source": [
    "# Laden des Modells\n",
    "model_path = download_model(\"Unbabel/wmt22-comet-da\")\n",
    "\n",
    "# Laden der Modell Checkpoints\n",
    "model = load_from_checkpoint(model_path)"
   ]
  },
  {
   "cell_type": "code",
   "execution_count": null,
   "metadata": {},
   "outputs": [],
   "source": [
    "# Erstellen der Datensätze\n",
    "# Testdaten\n",
    "data = [\n",
    "    {\n",
    "        \"src\": \"10 到 15 分钟可以送到吗\",\n",
    "        \"mt\": \"Can I receive my food in 10 to 15 minutes?\",\n",
    "        \"ref\": \"Can it be delivered between 10 to 15 minutes?\"\n",
    "    },\n",
    "    {\n",
    "        \"src\": \"Pode ser entregue dentro de 10 a 15 minutos?\",\n",
    "        \"mt\": \"Can you send it for 10 to 15 minutes?\",\n",
    "        \"ref\": \"Can it be delivered between 10 to 15 minutes?\"\n",
    "    }\n",
    "]\n",
    "\n",
    "# Beispieldaten"
   ]
  },
  {
   "cell_type": "code",
   "execution_count": null,
   "metadata": {},
   "outputs": [],
   "source": [
    "# Aufruf des Modells\n",
    "model_output = model.predict(data, batch_size=8, gpus=1)"
   ]
  },
  {
   "cell_type": "code",
   "execution_count": null,
   "metadata": {},
   "outputs": [],
   "source": [
    "# Ausgabe der Ergebnisse\n",
    "print(model_output)                                           # Prediction\n",
    "print(f\"Sentence-level score: {model_output.scores}\")         # Prüfung der Qualität auf Satzebene\n",
    "print(f\"System-level score: {model_output.system_score}\")     # Prüfung der Qualität über eine Sammlung von Sätzen"
   ]
  }
 ],
 "metadata": {
  "kernelspec": {
   "display_name": "venv",
   "language": "python",
   "name": "python3"
  },
  "language_info": {
   "codemirror_mode": {
    "name": "ipython",
    "version": 3
   },
   "file_extension": ".py",
   "mimetype": "text/x-python",
   "name": "python",
   "nbconvert_exporter": "python",
   "pygments_lexer": "ipython3",
   "version": "3.12.4"
  }
 },
 "nbformat": 4,
 "nbformat_minor": 2
}
